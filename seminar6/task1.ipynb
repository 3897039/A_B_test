{
 "cells": [
  {
   "cell_type": "markdown",
   "metadata": {},
   "source": [
    "Продакт на главной mail.ru решил протестировать в рекомендательной ленте контента вместо карточек \n",
    "со статьями видеоплеер с короткими видео. Нынешний таймспент на юзера в день в среднем равен 25 минут, \n",
    "а стандартная ошибка (SD) равна 156. Мы предполагаем, что в новой версии таймспент на юзера в день изменится на 10%. \n",
    "Средний трафик 20000 человек в день. Посчитайте сколько дней необходимо держать эксперимент при alpha = 5% и beta = 20% .\n"
   ]
  },
  {
   "cell_type": "markdown",
   "metadata": {},
   "source": [
    "В новой версии таймспент будет равен 25*1.1 = 27.5 мин.\n",
    "Используем калькулятор для средних чисел.\n",
    "Всего на эксперимент нужно 61124 минут.\n",
    "Округляем до 60000.\n",
    "Минуты переводим в дни - примерно 42 дня."
   ]
  }
 ],
 "metadata": {
  "kernelspec": {
   "display_name": "Python 3",
   "language": "python",
   "name": "python3"
  },
  "language_info": {
   "codemirror_mode": {
    "name": "ipython",
    "version": 3
   },
   "file_extension": ".py",
   "mimetype": "text/x-python",
   "name": "python",
   "nbconvert_exporter": "python",
   "pygments_lexer": "ipython3",
   "version": "3.12.0"
  }
 },
 "nbformat": 4,
 "nbformat_minor": 2
}
